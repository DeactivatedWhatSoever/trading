{
 "cells": [
  {
   "cell_type": "markdown",
   "metadata": {},
   "source": [
    "# Introduction\n",
    "* Trading--The Last Frontier\n",
    "* Psychology Is the Key\n",
    "* The Odds against You"
   ]
  },
  {
   "cell_type": "markdown",
   "metadata": {},
   "source": [
    "# Trading—The Last Frontier\n",
    "\n",
    "Live and work anywhere in the world. Be independent from routine and not answer to anybody. A software engineer that has your own job could, but a software engineer that automated his trading? And also his work? God damn that'll be a life time happiness lol.\n",
    "\n",
    "## How I Began to Trade\n",
    "\n",
    "Psychiatry was a very important key that the author thought. He actually lost a lot, and when he did, he went back to the hospital to work again. A software engineer job will always be there for me if I keep on coding. And that coding will actually help me with trading right? Of course I'll be transitioning to a Quant after, and with that I'll be easily be able to work as a data scientist. Well after I get a PhD, I'd just do research. Or maybe go back to the hedge fund industry. Phase 3 and 4 need more work. \n",
    "\n",
    "This dude just read a book called `How to buy stocks`. He did well on the first few tries, and that made him arrogant. I think I might be too. But I lost a lot and that's why I'm starting to study hard about this. That thought, that the market is easy to win, will ruin you a lot. That's what the author said and it was hard to get that thought out of his head for a while. \n",
    "\n",
    "## Do You Really Want to Succeed?\n",
    "\n",
    "Money management, risk management, whatever you do, you have to keep an eye on your capital. That's actually the same as your life as a trader. it's best to make consistent money, not big money one time and lose it all. \n",
    "\n",
    "I really want to succeed. That's why I'm trying to change my whole career status to this. I really enjoyed what I did when I traded for the first time. I didn't know there was an actual whole theory about this. I just thought of the fundamental things. But there was a whole new world called trading. That's when I started to actually study what there was. I actually was scared after that because I lost all my money when Bitcoin was going down. The time has come, where Bitcoin is rising up again. It was a really hard time, and now it's time for me to strike back again. Consistency is king.\n",
    "\n",
    "This book teaches about how to `analyze` the market. Analysis is something that I don't know about. Wikipedia tells analysis as making a big chunk of something into smaller chunks and see what they have. I think I sort of get it from the context of chemistry or medicine. An analysis of that actually gives you the knowledge of what there is in that thing your analyzing. We analyze OHLCV and see whether that information can be interpreted into something else. That's the key!\n"
   ]
  },
  {
   "cell_type": "markdown",
   "metadata": {},
   "source": [
    "# Psychology Is the Key\n",
    "\n",
    "I mostly traded because of FOMO. I went in because something went up too much, I didn't even go out when it died lol. Can't believe I did that shit.\n",
    "\n",
    "## Getting Off the Roller Coaster\n",
    "\n",
    "It's about actually analyzing the market with proof. You shouldn't waste time on fantasies, regrets, and wishful thinking. Yes you who thought of that \"If I had my money all in, I would've got that much ...\" → This thought really kills you. You shouldn't do that. You should think of making what you have, into a big dude. That's why actually makes people think you are good or not. That's what makes you good.\n",
    "\n",
    "The emotional roller coaster, when you make a trade, you either be happy or frustrated. No. It's time for you to have no emotion on those trades. It's either you made profit, or lost. Why did you win, why did you lose, what are you going to do about to not lose next time, what are you going to do to consistently win like this. That's what you have to focus on.\n",
    "\n",
    "It's about seeing the world, the way it is. You have to open your eyes while you do anything. That's the common thing about psychiatry.\n",
    "\n",
    "## A Main's Game?\n",
    "\n",
    "Women tend to be more disciplined and less arrogant than men. Having a discipline, and not being arrogant. Humble! And well, most people in the financial industry, traders are men. But still, the women traders are starting to increase in time.\n",
    "\n",
    "## How This Book Is Organized\n",
    "\n",
    "1. Manage your own emotions in trading.\n",
    "2. Finding out crowd psychiatry. You'll get an edge by the people's emotions if you know what they think.\n",
    "3. Now to know the technical parts. Classical technical analysis, which is about market analysis.\n",
    "4. Classical to modern. You get to know computerized technical analysis.\n",
    "5. See how volume and time reflects the market and crowd psychology.\n",
    "6. Best tools for analyzing the stock market.\n",
    "7. Several trading systems.\n",
    "8. What you can trade\n",
    "9. Money management\n",
    "10. How to implement trading systems.\n",
    "11. The most important thing of all, how to write past-recordings.\n"
   ]
  },
  {
   "cell_type": "markdown",
   "metadata": {},
   "source": [
    "# The Odd against You\n",
    "\n",
    "Commission and slippage is what kills you. You have to give money away when you buy and sell. You might not get to buy your stock at the price that you want, or even sell! It's really hard because of slippage. Market makers will get the money for this, but not us. It's against us. \n",
    "\n",
    "But before this, emotional and mindless trading is what will make us lose all our money before commission and slippage.\n",
    "\n",
    "## A Minus-Sum Game\n",
    "\n",
    "You need to be head and shoulders above the crowd to win this game. You have to give away so much money to the brokers! \n",
    "\n",
    "## Commissions\n",
    "\n",
    "Dang ... Commissions can actually take away 20% of your profits. Or even your account if you trade it all. You have to find brokerages that actually give low commissions. \n",
    "\n",
    "## Slippage\n",
    "\n",
    "Each trade you make, won't go as of what you wanted. You can get a market price, or a stock limit. You'll get the amount of shares, but not at the price you ordered. On the other hand, you may buy the shares at the price you want, but you might not be able to get the amount of shares you want. Whatever you experience, that's slippage.\n",
    "\n",
    "Slippage calculation formula: (Buy price - Fill price) * Number of shares\n",
    "\n",
    "Dang ... an average trader spends three times more on slippages than commission. That means, you have to try to make real good signals.\n",
    "\n",
    "Get in slow but get out fast. Use limits first, and when it can't get all the shares, then you go for market order.\n",
    "\n",
    "\"To reduce slippage, trade liquid, high-volume markets and avoid thinly traded stocks, where slippage tends to be higher. Go long or short when the market is quiet, and use limit orders to buy or sell at specified prices.\"\n",
    "\n",
    "## Bid-Ask Spreads\n",
    "\n",
    "Bid: People are offering to pay, Ask: People are offering to sell. \n",
    "\n",
    "Market orders get filled at the bad side of big-ask spreads. This means, you sell at the lowest price and buy at the highest price. No wonder those people earn a lot of money. So you have to use limit orders as much as possible.\n",
    "\n",
    "## The Barriers of Success\n",
    "\n",
    "All the things that you spend on to get better at trading is also your trading money. God damn it lol. I'd better get better ASAP and with less materials. Shouldn't spend too much money on trading material, but still, you should. Learning is inevitable. \n",
    "\n",
    "You should make strategies that give signals infrequently, and times when the market is quiet. You should get in when it's quiet, that's where you'll get a high chance of buying or selling your security at the price you want it to."
   ]
  }
 ],
 "metadata": {
  "kernelspec": {
   "display_name": "Python 3",
   "language": "python",
   "name": "python3"
  },
  "language_info": {
   "codemirror_mode": {
    "name": "ipython",
    "version": 3
   },
   "file_extension": ".py",
   "mimetype": "text/x-python",
   "name": "python",
   "nbconvert_exporter": "python",
   "pygments_lexer": "ipython3",
   "version": "3.6.8"
  }
 },
 "nbformat": 4,
 "nbformat_minor": 2
}
