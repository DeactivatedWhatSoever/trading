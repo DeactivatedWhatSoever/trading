{
 "cells": [
  {
   "cell_type": "markdown",
   "metadata": {},
   "source": [
    "# The New Trading For a Living\n",
    "This book is all about psychology(individual, mass), Chart analysis, computerized technical analysis, market indicators, trading systems, risk management, and how to make yourself better at trading. \n",
    "\n",
    "What's the most single most important step you can take to become a successful trader? Controlling myself.\n",
    "\n",
    "There are four pillars of trading. Psychology, market analysis, risk management, and record-keeping. Whatever you do, you should record what you thought of that trade. Everything you do, just write it down and see how you can learn from them. After all, making your own, living your own, that's the key of life. \n",
    "\n",
    "[Introduction](https://www.notion.so/69608f4829104c93b9e7ce424f74604f)\n",
    "\n",
    "[Individual Psychology](https://www.notion.so/430a55abcbd849b7a8bb420f74bdab1c)\n",
    "\n",
    "[Mass Psychology](https://www.notion.so/6a3488252a57428aacdfb9c51b9172f8)\n",
    "\n",
    "[Classical Chart Analysis](https://www.notion.so/c36c76764781445fa148da8060a48704)\n",
    "\n",
    "[Computerized Technical Analysis](https://www.notion.so/2d834011402a43ffa28491c0f5a2eaef)\n",
    "\n",
    "[Volume and Time](https://www.notion.so/3d9bdd720884496685b7a92c467b1ba4)"
   ]
  }
 ],
 "metadata": {
  "kernelspec": {
   "display_name": "Python 3",
   "language": "python",
   "name": "python3"
  },
  "language_info": {
   "codemirror_mode": {
    "name": "ipython",
    "version": 3
   },
   "file_extension": ".py",
   "mimetype": "text/x-python",
   "name": "python",
   "nbconvert_exporter": "python",
   "pygments_lexer": "ipython3",
   "version": "3.6.8"
  }
 },
 "nbformat": 4,
 "nbformat_minor": 2
}
