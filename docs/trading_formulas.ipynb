{
 "cells": [
  {
   "cell_type": "markdown",
   "metadata": {},
   "source": [
    "# Trading Formulas\n",
    "This notebook tells you all the things about the formulas you need in trading."
   ]
  },
  {
   "cell_type": "code",
   "execution_count": 2,
   "metadata": {},
   "outputs": [],
   "source": [
    "def commission(cost):\n",
    "    \"\"\"\n",
    "    When you buy and sell, you have to keep track\n",
    "    on your fees when you trade.\n",
    "    profit - commission = commission cost\n",
    "    \"\"\"\n",
    "    pass\n"
   ]
  },
  {
   "cell_type": "code",
   "execution_count": null,
   "metadata": {},
   "outputs": [],
   "source": [
    "def slippage():\n",
    "    \"\"\"\n",
    "    You may not buy or sell at the price you want,\n",
    "    or not the amount you want.\n",
    "    (buy price - fill price) * number of shares = slippage\n",
    "    \"\"\"\n",
    "    pass\n"
   ]
  },
  {
   "cell_type": "code",
   "execution_count": 8,
   "metadata": {},
   "outputs": [],
   "source": [
    "import statistics\n",
    "\n",
    "\n",
    "def simple_moving_average(prices, number_of_ticks):\n",
    "    \"\"\"\n",
    "    Simple moving averages are nicely calculated. Because of its simple formula.\n",
    "    The problem is, it changes two times. When the new price comes in,\n",
    "    the oldest price drops. Which could give you false alarms.\n",
    "    Use 'simple' moving averages with caution.\n",
    "    \"\"\"\n",
    "    if len(prices) < number_of_ticks:\n",
    "        return -1\n",
    "    return statistics.mean(prices[:number_of_ticks])\n"
   ]
  },
  {
   "cell_type": "code",
   "execution_count": null,
   "metadata": {},
   "outputs": [],
   "source": [
    "def exponential_moving_average():\n",
    "    \"\"\"\n",
    "    EMA = Ptod * K + EMAyest * (1−K)\n",
    "    K = 2 / N + 1\n",
    "    N = number of days in the EMA\n",
    "    Ptod = today's price\n",
    "    EMAyest = the EMA of yesterday\n",
    "    \"\"\"\n",
    "    pass\n"
   ]
  },
  {
   "cell_type": "code",
   "execution_count": 7,
   "metadata": {},
   "outputs": [],
   "source": [
    "def MACD_lines():\n",
    "    \"\"\"\n",
    "    Calculate 12_EMA * 26_EMA Both are based on closing prices.\n",
    "    Fast MACD line: |26_EMA - 12_EMA| -> Solid line\n",
    "    Signal line: 9_EMA -> Dashed line\n",
    "    \"\"\"\n",
    "    pass\n"
   ]
  },
  {
   "cell_type": "code",
   "execution_count": null,
   "metadata": {},
   "outputs": [],
   "source": [
    "def MACD_histogram():\n",
    "    pass\n"
   ]
  },
  {
   "cell_type": "code",
   "execution_count": null,
   "metadata": {},
   "outputs": [],
   "source": [
    "def directional_system():\n",
    "    pass\n"
   ]
  }
 ],
 "metadata": {
  "kernelspec": {
   "display_name": "Python 3",
   "language": "python",
   "name": "python3"
  },
  "language_info": {
   "codemirror_mode": {
    "name": "ipython",
    "version": 3
   },
   "file_extension": ".py",
   "mimetype": "text/x-python",
   "name": "python",
   "nbconvert_exporter": "python",
   "pygments_lexer": "ipython3",
   "version": "3.6.8"
  }
 },
 "nbformat": 4,
 "nbformat_minor": 2
}
